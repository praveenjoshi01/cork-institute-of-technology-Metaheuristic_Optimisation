{
 "cells": [
  {
   "cell_type": "code",
   "execution_count": 1,
   "metadata": {},
   "outputs": [],
   "source": [
    "import random\n",
    "import time\n",
    "import matplotlib.pyplot as plt\n",
    "filename = \"./uf20-02.cnf\""
   ]
  },
  {
   "cell_type": "code",
   "execution_count": 3,
   "metadata": {},
   "outputs": [],
   "source": [
    "def check_satisfiablity_formula(listOfClauses,literals):\n",
    "    clause_boolean_values = []\n",
    "    \n",
    "    for clause in listOfClauses:\n",
    "        boolean_result = 0 \n",
    "        for literal in clause:\n",
    "            boolean_result = 1 if (( literal > 0 and literals[literal-1] == 1 ) or ( literal <= 0 and literals[abs(literal)-1] == 0 ))else 0\n",
    "            if boolean_result:\n",
    "                break\n",
    "        clause_boolean_values.append(boolean_result)\n",
    "\n",
    "    result = 0 if 0 in clause_boolean_values else 1\n",
    "    \n",
    "    return result,clause_boolean_values"
   ]
  },
  {
   "cell_type": "code",
   "execution_count": 4,
   "metadata": {},
   "outputs": [],
   "source": [
    "def getMinCostVariable(listOfVariableCost,listOfMinimumCostVariables):\n",
    "    tempMinimumCostOfAllVaraibles = min(listOfVariableCost)\n",
    "    for _variableCost in range(len(listOfVariableCost)):\n",
    "        if listOfVariableCost[_variableCost] == tempMinimumCostOfAllVaraibles:\n",
    "            listOfMinimumCostVariables.append(_variableCost)\n",
    "    return listOfMinimumCostVariables[random.randint(0,(len(listOfMinimumCostVariables)-1))]"
   ]
  },
  {
   "cell_type": "code",
   "execution_count": 5,
   "metadata": {},
   "outputs": [],
   "source": [
    "def GreedyLocalSearchStepVariable(all_clause_list,listOfBoolVariableValues):\n",
    "    listOfMinimumCostVariables = []\n",
    "    listOfVariableCost = []\n",
    "    for value in range(len(listOfBoolVariableValues)):\n",
    "        temp = listOfBoolVariableValues.copy()\n",
    "        flipped_value = 1 if listOfBoolVariableValues[value] == 0 else 0\n",
    "        temp[value] = flipped_value\n",
    "        clause_boolean_values = check_satisfiablity_formula(all_clause_list,temp)[1]\n",
    "        listOfVariableCost.append(clause_boolean_values.count(0))\n",
    "    return getMinCostVariable(listOfVariableCost,listOfMinimumCostVariables)"
   ]
  },
  {
   "cell_type": "code",
   "execution_count": 6,
   "metadata": {},
   "outputs": [],
   "source": [
    "def getUnsatisfiedClause(nonSatisfyingClauses,clauses_list):\n",
    "    return clauses_list[nonSatisfyingClauses[random.randint(0,len(nonSatisfyingClauses)-1)]]"
   ]
  },
  {
   "cell_type": "code",
   "execution_count": 7,
   "metadata": {},
   "outputs": [],
   "source": [
    "def getVariableToFlipForRandomWalkStepVariable(random_unsatisfied_clause):\n",
    "    return abs(random_unsatisfied_clause[random.randint(0,len(random_unsatisfied_clause)-1)]) - 1"
   ]
  },
  {
   "cell_type": "code",
   "execution_count": 8,
   "metadata": {},
   "outputs": [],
   "source": [
    "def RandomWalkStepVariable(listOfClauses,listOfBoolVariableValues):\n",
    "    copy_listOfClauses = listOfClauses.copy()\n",
    "    \n",
    "    clause_values = check_satisfiablity_formula(copy_listOfClauses, listOfBoolVariableValues)[1]\n",
    "    \n",
    "    nonSatisfyingClauses = []\n",
    "    \n",
    "    for values in range(len(clause_values)):\n",
    "        if clause_values[values] == 0:\n",
    "            nonSatisfyingClauses.append(values)\n",
    "    random_unsatisfied_clause = getUnsatisfiedClause(nonSatisfyingClauses, copy_listOfClauses)\n",
    "    \n",
    "    return getVariableToFlipForRandomWalkStepVariable(random_unsatisfied_clause)"
   ]
  },
  {
   "cell_type": "code",
   "execution_count": 9,
   "metadata": {},
   "outputs": [],
   "source": [
    "def checkForSolution(listOfClauses,results):\n",
    "    if len(results) == 0:\n",
    "        print(\"No solution found\")\n",
    "    else:\n",
    "        for result in results:\n",
    "            if check_satisfiablity_formula(listOfClauses,result)[0] == 1:\n",
    "                print(result)"
   ]
  },
  {
   "cell_type": "code",
   "execution_count": 10,
   "metadata": {},
   "outputs": [],
   "source": [
    "class BreakInnerMostLoop( Exception ):\n",
    "    pass"
   ]
  },
  {
   "cell_type": "code",
   "execution_count": 11,
   "metadata": {},
   "outputs": [],
   "source": [
    "def getVariableToFlip(rand_walk_probability,listOfClauses,listOfBoolVariableValues):\n",
    "    if random.uniform(0 ,1) <= rand_walk_probability:\n",
    "                    return RandomWalkStepVariable(listOfClauses.copy(), listOfBoolVariableValues.copy())\n",
    "    else:\n",
    "                    return GreedyLocalSearchStepVariable(listOfClauses.copy(), listOfBoolVariableValues.copy())"
   ]
  },
  {
   "cell_type": "code",
   "execution_count": 12,
   "metadata": {},
   "outputs": [],
   "source": [
    "def gwsat(numberOfMaximumFlips, numberOfMaximumTry):\n",
    "    results = []\n",
    "    listOfClauses = []\n",
    "    literalsOfClauses = []\n",
    "    numberOfLiteralss = 0\n",
    "    numberOfCluases = 0\n",
    "    rand_walk_probability = 0.4\n",
    "    \n",
    "    with open(filename,\"r\") as f:\n",
    "        _data = f.readlines()\n",
    "        \n",
    "    for row in _data:\n",
    "        if row.startswith(\"p\"):\n",
    "            numberOfLiteralss = int(row.split()[2])\n",
    "            numberOfCluases = int(row.split()[3])\n",
    "        if not row.startswith((\"c\",\"p\",\"0\",\"%\")):\n",
    "            for word in row.split():\n",
    "                if word != '0':\n",
    "                    literalsOfClauses.append(int(word))\n",
    "                else:\n",
    "                    listOfClauses.append(literalsOfClauses)\n",
    "                    literalsOfClauses = []\n",
    "    \n",
    "    temp_listOfBoolVariableValues =[0 for i in range(numberOfLiteralss)] \n",
    "    \n",
    "    numberOfFlip=0\n",
    "    numberOfTry =0\n",
    "    \n",
    "    try:\n",
    "        for tryCount in range(numberOfMaximumTry):\n",
    "            for values in range(len(temp_listOfBoolVariableValues)):\n",
    "                temp_listOfBoolVariableValues[values] = random.randint(0,1)\n",
    "            listOfBoolVariableValues = temp_listOfBoolVariableValues.copy()\n",
    "            for flipCount in range(numberOfMaximumFlips):\n",
    "                result = check_satisfiablity_formula(listOfClauses.copy(),listOfBoolVariableValues.copy())[0]\n",
    "                if result == 1:\n",
    "                    results.append(listOfBoolVariableValues.copy())\n",
    "                    numberOfFlip= flipCount\n",
    "                    numberOfTry= tryCount\n",
    "                    raise BreakInnerMostLoop\n",
    "                _flipVariable = getVariableToFlip(rand_walk_probability,listOfClauses,listOfBoolVariableValues)\n",
    "                listOfBoolVariableValues[_flipVariable] = 1 if listOfBoolVariableValues[_flipVariable] == 0 else 0\n",
    "                \n",
    "    except BreakInnerMostLoop:\n",
    "        checkForSolution(listOfClauses,results)\n",
    "        pass\n",
    "        \n",
    "    return numberOfFlip, numberOfTry"
   ]
  },
  {
   "cell_type": "code",
   "execution_count": 13,
   "metadata": {},
   "outputs": [],
   "source": [
    "def drawTimeRequiredToSolveTheSolution(listOfTimeTakenToFindSolution,listOfFlip):\n",
    "    plt.plot(listOfTimeTakenToFindSolution)\n",
    "    plt.plot(listOfFlip)\n",
    "    plt.ylabel('Time')\n",
    "    plt.xlabel('Instance')\n",
    "    plt.show()"
   ]
  },
  {
   "cell_type": "code",
   "execution_count": 14,
   "metadata": {},
   "outputs": [],
   "source": [
    "def main():    \n",
    "    listOfTimeTakenToFindSolution =[]\n",
    "    listOfFlip =[]\n",
    "    for observation in range(50):\n",
    "        start_time = time.clock()\n",
    "        numberOfFlip, numberOfTry = gwsat(20000, 500)\n",
    "        end_time = time.clock() - start_time\n",
    "        listOfTimeTakenToFindSolution.append(end_time*1000)\n",
    "        listOfFlip.append(numberOfFlip)\n",
    "    drawTimeRequiredToSolveTheSolution(listOfTimeTakenToFindSolution,listOfFlip)"
   ]
  },
  {
   "cell_type": "code",
   "execution_count": 15,
   "metadata": {
    "scrolled": true
   },
   "outputs": [
    {
     "name": "stderr",
     "output_type": "stream",
     "text": [
      "C:\\ProgramData\\Anaconda3\\lib\\site-packages\\ipykernel_launcher.py:5: DeprecationWarning: time.clock has been deprecated in Python 3.3 and will be removed from Python 3.8: use time.perf_counter or time.process_time instead\n",
      "  \"\"\"\n",
      "C:\\ProgramData\\Anaconda3\\lib\\site-packages\\ipykernel_launcher.py:7: DeprecationWarning: time.clock has been deprecated in Python 3.3 and will be removed from Python 3.8: use time.perf_counter or time.process_time instead\n",
      "  import sys\n"
     ]
    },
    {
     "name": "stdout",
     "output_type": "stream",
     "text": [
      "[0, 0, 0, 0, 1, 0, 1, 1, 1, 0, 0, 0, 0, 1, 1, 1, 0, 0, 1, 0]\n",
      "[0, 0, 1, 0, 1, 0, 1, 1, 1, 0, 0, 1, 0, 1, 0, 1, 0, 0, 1, 0]\n",
      "[0, 0, 1, 0, 0, 0, 1, 1, 1, 0, 0, 0, 0, 1, 1, 1, 0, 0, 1, 0]\n",
      "[1, 0, 0, 0, 1, 0, 1, 1, 1, 0, 0, 0, 0, 1, 0, 1, 0, 0, 1, 0]\n",
      "[0, 0, 0, 0, 1, 0, 1, 1, 1, 0, 0, 0, 0, 1, 0, 1, 0, 0, 1, 0]\n",
      "[0, 0, 0, 0, 1, 0, 1, 1, 1, 0, 0, 1, 0, 1, 1, 1, 0, 0, 1, 0]\n",
      "[0, 0, 1, 0, 1, 0, 1, 1, 1, 0, 0, 0, 0, 1, 1, 1, 0, 0, 1, 0]\n",
      "[0, 0, 1, 0, 1, 0, 1, 1, 1, 0, 0, 1, 0, 1, 0, 1, 0, 0, 1, 0]\n",
      "[1, 0, 0, 0, 1, 1, 1, 1, 1, 0, 0, 1, 0, 1, 1, 1, 0, 0, 1, 0]\n",
      "[0, 0, 1, 0, 1, 0, 1, 1, 1, 0, 0, 1, 0, 1, 1, 1, 0, 0, 1, 0]\n",
      "[0, 0, 1, 0, 1, 1, 1, 1, 1, 0, 0, 1, 0, 1, 1, 1, 0, 0, 1, 0]\n",
      "[0, 0, 1, 0, 1, 1, 1, 1, 1, 0, 0, 1, 0, 1, 1, 1, 0, 0, 1, 0]\n",
      "[1, 0, 0, 0, 1, 0, 1, 1, 1, 0, 0, 0, 0, 1, 0, 1, 0, 0, 0, 0]\n",
      "[0, 0, 1, 0, 1, 1, 1, 1, 1, 0, 0, 1, 0, 1, 1, 1, 0, 0, 1, 0]\n",
      "[0, 0, 0, 0, 1, 0, 1, 1, 1, 0, 0, 0, 0, 1, 1, 1, 0, 0, 1, 0]\n",
      "[1, 0, 0, 0, 0, 0, 1, 1, 1, 0, 0, 0, 0, 1, 0, 1, 0, 0, 0, 0]\n",
      "[0, 0, 1, 0, 1, 0, 1, 1, 1, 0, 0, 1, 0, 1, 1, 1, 0, 0, 1, 0]\n",
      "[0, 0, 0, 0, 1, 0, 1, 1, 1, 0, 0, 0, 0, 1, 0, 1, 0, 0, 1, 0]\n",
      "[0, 0, 0, 0, 0, 0, 1, 1, 0, 0, 0, 0, 0, 1, 1, 1, 0, 0, 1, 0]\n",
      "[1, 0, 0, 0, 0, 0, 1, 1, 1, 0, 0, 0, 0, 1, 0, 1, 0, 0, 1, 0]\n",
      "[0, 0, 1, 0, 1, 0, 1, 1, 1, 0, 0, 1, 0, 1, 1, 1, 0, 0, 1, 0]\n",
      "[0, 0, 1, 0, 1, 0, 1, 1, 1, 0, 0, 0, 0, 1, 1, 1, 0, 0, 1, 0]\n",
      "[1, 0, 0, 0, 0, 0, 1, 1, 1, 0, 0, 0, 0, 1, 0, 1, 0, 0, 1, 0]\n",
      "[1, 0, 0, 0, 0, 0, 1, 1, 1, 0, 0, 0, 0, 1, 0, 1, 0, 0, 1, 0]\n",
      "[0, 0, 1, 0, 1, 1, 1, 1, 1, 0, 0, 1, 0, 1, 1, 1, 0, 0, 1, 0]\n",
      "[0, 0, 1, 0, 1, 1, 1, 1, 1, 0, 0, 1, 0, 1, 1, 1, 0, 0, 1, 0]\n",
      "[1, 0, 0, 0, 1, 0, 1, 1, 1, 0, 0, 0, 0, 1, 1, 1, 0, 0, 0, 0]\n",
      "[0, 0, 0, 0, 0, 0, 1, 1, 1, 0, 0, 0, 0, 1, 0, 1, 0, 0, 1, 0]\n",
      "[0, 0, 1, 0, 0, 0, 1, 1, 0, 0, 0, 0, 0, 1, 1, 1, 0, 0, 1, 0]\n",
      "[1, 0, 0, 0, 1, 0, 1, 1, 1, 0, 0, 0, 0, 1, 1, 1, 0, 0, 0, 0]\n",
      "[1, 0, 0, 0, 1, 0, 1, 1, 1, 0, 0, 0, 0, 1, 0, 1, 0, 0, 0, 0]\n",
      "[0, 0, 1, 0, 0, 0, 1, 1, 1, 0, 0, 0, 0, 1, 1, 1, 0, 0, 1, 0]\n",
      "[0, 0, 1, 0, 0, 0, 1, 1, 1, 0, 0, 0, 0, 1, 1, 1, 0, 0, 1, 0]\n",
      "[0, 0, 0, 0, 1, 0, 1, 1, 1, 0, 0, 1, 0, 1, 0, 1, 0, 0, 1, 0]\n",
      "[1, 0, 0, 0, 1, 0, 1, 1, 1, 0, 0, 0, 0, 1, 1, 1, 0, 0, 0, 0]\n",
      "[0, 0, 1, 0, 0, 0, 1, 1, 0, 0, 0, 0, 0, 1, 1, 1, 0, 0, 1, 0]\n",
      "[0, 0, 1, 0, 1, 1, 1, 1, 1, 0, 0, 1, 0, 1, 1, 1, 0, 0, 1, 0]\n",
      "[0, 0, 1, 0, 1, 0, 1, 1, 1, 0, 0, 1, 0, 1, 0, 1, 0, 0, 1, 0]\n",
      "[1, 0, 0, 0, 0, 0, 1, 1, 1, 0, 0, 0, 0, 1, 1, 1, 0, 0, 1, 0]\n",
      "[1, 0, 0, 0, 1, 0, 1, 1, 1, 0, 0, 0, 0, 1, 0, 1, 0, 0, 0, 0]\n",
      "[0, 0, 1, 0, 1, 0, 1, 1, 1, 0, 0, 0, 0, 1, 1, 1, 0, 0, 1, 0]\n",
      "[0, 0, 0, 0, 1, 0, 1, 1, 1, 0, 0, 0, 0, 1, 0, 1, 0, 0, 1, 0]\n",
      "[0, 0, 0, 0, 1, 0, 1, 1, 1, 0, 0, 1, 0, 1, 1, 1, 0, 0, 1, 0]\n",
      "[1, 0, 0, 0, 1, 0, 1, 1, 1, 0, 0, 1, 0, 1, 0, 1, 0, 0, 1, 0]\n",
      "[0, 0, 1, 0, 1, 1, 1, 1, 1, 0, 0, 1, 0, 1, 1, 1, 0, 0, 1, 0]\n",
      "[1, 0, 0, 0, 0, 0, 1, 1, 1, 0, 0, 0, 0, 1, 1, 1, 0, 0, 0, 0]\n",
      "[0, 0, 1, 0, 0, 0, 1, 1, 1, 0, 0, 0, 0, 1, 1, 1, 0, 0, 1, 0]\n",
      "[0, 0, 1, 0, 1, 0, 1, 1, 1, 0, 0, 0, 0, 1, 0, 1, 0, 0, 1, 0]\n",
      "[1, 0, 0, 0, 1, 0, 1, 1, 1, 0, 0, 0, 0, 1, 0, 1, 0, 0, 1, 0]\n",
      "[1, 0, 0, 0, 1, 0, 1, 1, 1, 0, 0, 0, 0, 1, 1, 1, 0, 0, 1, 0]\n"
     ]
    },
    {
     "data": {
      "image/png": "[encoded data removed]",
      "text/plain": [
       "<Figure size 432x288 with 1 Axes>"
      ]
     },
     "metadata": {
      "needs_background": "light"
     },
     "output_type": "display_data"
    }
   ],
   "source": [
    "main()"
   ]
  },
  {
   "cell_type": "code",
   "execution_count": null,
   "metadata": {},
   "outputs": [],
   "source": []
  }
 ],
 "metadata": {
  "kernelspec": {
   "display_name": "Python 3",
   "language": "python",
   "name": "python3"
  },
  "language_info": {
   "codemirror_mode": {
    "name": "ipython",
    "version": 3
   },
   "file_extension": ".py",
   "mimetype": "text/x-python",
   "name": "python",
   "nbconvert_exporter": "python",
   "pygments_lexer": "ipython3",
   "version": "3.7.3"
  }
 },
 "nbformat": 4,
 "nbformat_minor": 2
}
